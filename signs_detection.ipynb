{
 "cells": [
  {
   "cell_type": "code",
   "execution_count": 1,
   "id": "widespread-remains",
   "metadata": {},
   "outputs": [
    {
     "data": {
      "application/vnd.jupyter.widget-view+json": {
       "model_id": "b79c83ed89174dcfa47c3cc17c6468de",
       "version_major": 2,
       "version_minor": 0
      },
      "text/plain": [
       "Image(value=b'\\xff\\xd8\\xff\\xe0\\x00\\x10JFIF\\x00\\x01\\x01\\x00\\x00\\x01\\x00\\x01\\x00\\x00\\xff\\xdb\\x00C\\x00\\x02\\x01\\x0…"
      ]
     },
     "metadata": {},
     "output_type": "display_data"
    }
   ],
   "source": [
    "from IPython.display import display\n",
    "import ipywidgets\n",
    "import traitlets\n",
    "from jetbot import bgr8_to_jpeg\n",
    "# from jetbot.camera.zmq_camera import ZmqCamera as Camera\n",
    "from jetbot import Camera\n",
    "\n",
    "camera = Camera()\n",
    "\n",
    "image_widget = ipywidgets.Image()\n",
    "\n",
    "traitlets.dlink((camera, 'value'), (image_widget, 'value'), transform=bgr8_to_jpeg)\n",
    "\n",
    "display(image_widget)"
   ]
  },
  {
   "cell_type": "code",
   "execution_count": 2,
   "id": "played-fight",
   "metadata": {},
   "outputs": [
    {
     "data": {
      "image/png": "[encoded data removed]",
      "text/plain": [
       "<Figure size 432x288 with 1 Axes>"
      ]
     },
     "metadata": {
      "needs_background": "light"
     },
     "output_type": "display_data"
    }
   ],
   "source": [
    "import cv2\n",
    "from matplotlib import pyplot as plt\n",
    "\n",
    "speed_limit_30_km = cv2.imread(r\"signs/30_limit.png\")\n",
    "speed_limit_30_km = cv2.resize(speed_limit_30_km, (64, 64))\n",
    "speed_limit_30_km = cv2.inRange(speed_limit_30_km, (89,91,149), (255,255,255))\n",
    "plt.imshow( speed_limit_30_km)\n",
    "plt.show()\n"
   ]
  },
  {
   "cell_type": "code",
   "execution_count": 3,
   "id": "varying-authority",
   "metadata": {},
   "outputs": [
    {
     "data": {
      "image/png": "[encoded data removed]",
      "text/plain": [
       "<Figure size 432x288 with 1 Axes>"
      ]
     },
     "metadata": {
      "needs_background": "light"
     },
     "output_type": "display_data"
    }
   ],
   "source": [
    "import cv2\n",
    "from matplotlib import pyplot as plt\n",
    "\n",
    "\n",
    "pedestrian = cv2.imread(r\"signs/pedestrian.png\")\n",
    "pedestrian = cv2.resize(pedestrian, (64,64))\n",
    "pedestrian = cv2.inRange(pedestrian, (89,91,149), (255,255,255))\n",
    "plt.imshow( pedestrian)\n",
    "plt.show()"
   ]
  },
  {
   "cell_type": "code",
   "execution_count": 36,
   "id": "associate-destiny",
   "metadata": {},
   "outputs": [],
   "source": [
    "import time \n",
    "\n",
    "def detect_signs():\n",
    "    now = time.time()\n",
    "    future = now + 5\n",
    "    \n",
    "    while True:\n",
    "        frame = camera.value\n",
    "        frameCopy=frame.copy()\n",
    "\n",
    "        hsv=cv2.cvtColor(frame, cv2.COLOR_BGR2HSV)\n",
    "        hsv=cv2.blur(hsv,(5,5))\n",
    "        mask = cv2.inRange(hsv, (65,98,141), (255, 255, 255)) #(18,91,6) für nacht (65,98,141) für tag\n",
    "        \n",
    "        mask = cv2.erode(mask, None, iterations=2)\n",
    "        mask = cv2.dilate(mask, None, iterations=4)\n",
    "\n",
    "        contours=cv2.findContours(mask, cv2.RETR_TREE, cv2.CHAIN_APPROX_NONE)\n",
    "        contours=contours[0]\n",
    "        if contours:\n",
    "            contours=sorted(contours, key=cv2.contourArea, reverse=True)\n",
    "            cv2.drawContours(frame, contours, 0, (255,0,255), 3)\n",
    "\n",
    "            (x,y,w,h)=cv2.boundingRect(contours[0])\n",
    "            cv2.rectangle(frame, (x,y), (x+w, y+h), (0,255,0), 2)\n",
    "\n",
    "            roImg=frameCopy[y:y+h, x:x+w]\n",
    "            roImg = cv2.resize((roImg), (64, 64))\n",
    "            roImg=cv2.resize(roImg, (64,64))\n",
    "            roImg=cv2.inRange(roImg, (40, 50, 100), (255,255,255)) #(89,91,149) # 40, 50, 100\n",
    "\n",
    "            val1 = 0\n",
    "            val2 = 0\n",
    "            for i in range(64):\n",
    "                for j in range(64):\n",
    "                    if roImg[i][j] == speed_limit_30_km[i][j]:\n",
    "                        val1+=1\n",
    "                    if roImg[i][j] == pedestrian[i][j]:\n",
    "                        val2+=1   \n",
    "                        \n",
    "            if val1 > 2750:\n",
    "                # print(val1, val2)\n",
    "                print(\"Speed limit 30km/h\")\n",
    "                break\n",
    "            \n",
    "            if val2 > 2650:\n",
    "                # print(val1, val2)\n",
    "                print(\"Pedestrian\")\n",
    "                break\n",
    "\n",
    "        if cv2.waitKey(1) == 27:\n",
    "            break"
   ]
  },
  {
   "cell_type": "code",
   "execution_count": 42,
   "id": "convinced-miller",
   "metadata": {},
   "outputs": [
    {
     "name": "stdout",
     "output_type": "stream",
     "text": [
      "Speed limit 30km/h\n"
     ]
    }
   ],
   "source": [
    "detect_signs()"
   ]
  },
  {
   "cell_type": "code",
   "execution_count": null,
   "id": "excessive-dominant",
   "metadata": {},
   "outputs": [],
   "source": []
  },
  {
   "cell_type": "code",
   "execution_count": null,
   "id": "pressing-globe",
   "metadata": {},
   "outputs": [],
   "source": []
  }
 ],
 "metadata": {
  "kernelspec": {
   "display_name": "Python 3",
   "language": "python",
   "name": "python3"
  },
  "language_info": {
   "codemirror_mode": {
    "name": "ipython",
    "version": 3
   },
   "file_extension": ".py",
   "mimetype": "text/x-python",
   "name": "python",
   "nbconvert_exporter": "python",
   "pygments_lexer": "ipython3",
   "version": "3.6.9"
  }
 },
 "nbformat": 4,
 "nbformat_minor": 5
}
